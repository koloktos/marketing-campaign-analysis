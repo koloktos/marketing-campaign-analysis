{
 "cells": [
  {
   "cell_type": "markdown",
   "metadata": {},
   "source": [
    "##### Step 1 - Import necessary libraries"
   ]
  },
  {
   "cell_type": "code",
   "execution_count": 1,
   "metadata": {},
   "outputs": [],
   "source": [
    "import numpy as np\n",
    "import pandas as pd\n",
    "import matplotlib.pyplot as plt\n",
    "import seaborn as sns\n",
    "import plotly as px"
   ]
  },
  {
   "cell_type": "markdown",
   "metadata": {},
   "source": [
    "##### Step 2 - Import data and create a pandas dataframe"
   ]
  },
  {
   "cell_type": "code",
   "execution_count": 2,
   "metadata": {},
   "outputs": [],
   "source": [
    "df = pd.read_csv(r'data/marketing-data.csv')"
   ]
  },
  {
   "cell_type": "markdown",
   "metadata": {},
   "source": [
    "### PREPROCESS"
   ]
  },
  {
   "cell_type": "markdown",
   "metadata": {},
   "source": [
    "##### Step 3 - Get general information of the dataset"
   ]
  },
  {
   "cell_type": "code",
   "execution_count": 3,
   "metadata": {},
   "outputs": [
    {
     "data": {
      "text/html": [
       "<div>\n",
       "<style scoped>\n",
       "    .dataframe tbody tr th:only-of-type {\n",
       "        vertical-align: middle;\n",
       "    }\n",
       "\n",
       "    .dataframe tbody tr th {\n",
       "        vertical-align: top;\n",
       "    }\n",
       "\n",
       "    .dataframe thead th {\n",
       "        text-align: right;\n",
       "    }\n",
       "</style>\n",
       "<table border=\"1\" class=\"dataframe\">\n",
       "  <thead>\n",
       "    <tr style=\"text-align: right;\">\n",
       "      <th></th>\n",
       "      <th>Campaign_ID</th>\n",
       "      <th>Channel</th>\n",
       "      <th>Product_Category</th>\n",
       "      <th>Region</th>\n",
       "      <th>Budget</th>\n",
       "      <th>Spend</th>\n",
       "      <th>Impressions</th>\n",
       "      <th>Clicks</th>\n",
       "      <th>CTR</th>\n",
       "      <th>Conversions</th>\n",
       "      <th>CR</th>\n",
       "      <th>Revenue</th>\n",
       "      <th>ROI</th>\n",
       "      <th>Duration</th>\n",
       "      <th>Start_Date</th>\n",
       "      <th>End_Date</th>\n",
       "      <th>Customer_Satisfaction</th>\n",
       "      <th>Campaign_Effectiveness</th>\n",
       "      <th>Market_Segment</th>\n",
       "    </tr>\n",
       "  </thead>\n",
       "  <tbody>\n",
       "    <tr>\n",
       "      <th>0</th>\n",
       "      <td>CAM0001</td>\n",
       "      <td>Billboard</td>\n",
       "      <td>Fashion</td>\n",
       "      <td>Kuala Lumpur</td>\n",
       "      <td>484341.0</td>\n",
       "      <td>197038.0</td>\n",
       "      <td>545901.0</td>\n",
       "      <td>NaN</td>\n",
       "      <td>0.0785</td>\n",
       "      <td>7993.0</td>\n",
       "      <td>0.3414</td>\n",
       "      <td>849005.0</td>\n",
       "      <td>0.64</td>\n",
       "      <td>212.0</td>\n",
       "      <td>2/3/2023</td>\n",
       "      <td>23/12/2023</td>\n",
       "      <td>3.0</td>\n",
       "      <td>3.0</td>\n",
       "      <td>Medium</td>\n",
       "    </tr>\n",
       "    <tr>\n",
       "      <th>1</th>\n",
       "      <td>CAM0002</td>\n",
       "      <td>NaN</td>\n",
       "      <td>Health</td>\n",
       "      <td>Sarawak</td>\n",
       "      <td>468792.0</td>\n",
       "      <td>33743.0</td>\n",
       "      <td>527513.0</td>\n",
       "      <td>4130.0</td>\n",
       "      <td>0.9479</td>\n",
       "      <td>9459.0</td>\n",
       "      <td>NaN</td>\n",
       "      <td>921078.0</td>\n",
       "      <td>3.78</td>\n",
       "      <td>29.0</td>\n",
       "      <td>NaN</td>\n",
       "      <td>NaN</td>\n",
       "      <td>3.0</td>\n",
       "      <td>7.0</td>\n",
       "      <td>Medium</td>\n",
       "    </tr>\n",
       "    <tr>\n",
       "      <th>2</th>\n",
       "      <td>CAM0003</td>\n",
       "      <td>Radio</td>\n",
       "      <td>Electronics</td>\n",
       "      <td>Penang</td>\n",
       "      <td>10487.0</td>\n",
       "      <td>6745.0</td>\n",
       "      <td>806911.0</td>\n",
       "      <td>12209.0</td>\n",
       "      <td>NaN</td>\n",
       "      <td>7168.0</td>\n",
       "      <td>0.0517</td>\n",
       "      <td>51142.0</td>\n",
       "      <td>3.64</td>\n",
       "      <td>74.0</td>\n",
       "      <td>12/4/2023</td>\n",
       "      <td>20/10/2023</td>\n",
       "      <td>1.0</td>\n",
       "      <td>2.0</td>\n",
       "      <td>Medium</td>\n",
       "    </tr>\n",
       "    <tr>\n",
       "      <th>3</th>\n",
       "      <td>CAM0004</td>\n",
       "      <td>Email</td>\n",
       "      <td>Electronics</td>\n",
       "      <td>Penang</td>\n",
       "      <td>345431.0</td>\n",
       "      <td>329112.0</td>\n",
       "      <td>108570.0</td>\n",
       "      <td>34391.0</td>\n",
       "      <td>0.6157</td>\n",
       "      <td>7190.0</td>\n",
       "      <td>0.3579</td>\n",
       "      <td>191887.0</td>\n",
       "      <td>2.64</td>\n",
       "      <td>67.0</td>\n",
       "      <td>24/4/2023</td>\n",
       "      <td>26/1/2023</td>\n",
       "      <td>5.0</td>\n",
       "      <td>6.0</td>\n",
       "      <td>High</td>\n",
       "    </tr>\n",
       "    <tr>\n",
       "      <th>4</th>\n",
       "      <td>CAM0005</td>\n",
       "      <td>Radio</td>\n",
       "      <td>Fashion</td>\n",
       "      <td>Kuala Lumpur</td>\n",
       "      <td>322345.0</td>\n",
       "      <td>34365.0</td>\n",
       "      <td>799855.0</td>\n",
       "      <td>13056.0</td>\n",
       "      <td>NaN</td>\n",
       "      <td>1794.0</td>\n",
       "      <td>0.0544</td>\n",
       "      <td>167241.0</td>\n",
       "      <td>1.02</td>\n",
       "      <td>40.0</td>\n",
       "      <td>10/1/2023</td>\n",
       "      <td>1/1/2023</td>\n",
       "      <td>5.0</td>\n",
       "      <td>6.0</td>\n",
       "      <td>Low</td>\n",
       "    </tr>\n",
       "  </tbody>\n",
       "</table>\n",
       "</div>"
      ],
      "text/plain": [
       "  Campaign_ID    Channel Product_Category        Region    Budget     Spend  \\\n",
       "0     CAM0001  Billboard          Fashion  Kuala Lumpur  484341.0  197038.0   \n",
       "1     CAM0002        NaN           Health       Sarawak  468792.0   33743.0   \n",
       "2     CAM0003      Radio      Electronics        Penang   10487.0    6745.0   \n",
       "3     CAM0004      Email      Electronics        Penang  345431.0  329112.0   \n",
       "4     CAM0005      Radio          Fashion  Kuala Lumpur  322345.0   34365.0   \n",
       "\n",
       "   Impressions   Clicks     CTR  Conversions      CR   Revenue   ROI  \\\n",
       "0     545901.0      NaN  0.0785       7993.0  0.3414  849005.0  0.64   \n",
       "1     527513.0   4130.0  0.9479       9459.0     NaN  921078.0  3.78   \n",
       "2     806911.0  12209.0     NaN       7168.0  0.0517   51142.0  3.64   \n",
       "3     108570.0  34391.0  0.6157       7190.0  0.3579  191887.0  2.64   \n",
       "4     799855.0  13056.0     NaN       1794.0  0.0544  167241.0  1.02   \n",
       "\n",
       "   Duration Start_Date    End_Date  Customer_Satisfaction  \\\n",
       "0     212.0   2/3/2023  23/12/2023                    3.0   \n",
       "1      29.0        NaN         NaN                    3.0   \n",
       "2      74.0  12/4/2023  20/10/2023                    1.0   \n",
       "3      67.0  24/4/2023   26/1/2023                    5.0   \n",
       "4      40.0  10/1/2023    1/1/2023                    5.0   \n",
       "\n",
       "   Campaign_Effectiveness Market_Segment  \n",
       "0                     3.0         Medium  \n",
       "1                     7.0         Medium  \n",
       "2                     2.0         Medium  \n",
       "3                     6.0           High  \n",
       "4                     6.0            Low  "
      ]
     },
     "execution_count": 3,
     "metadata": {},
     "output_type": "execute_result"
    }
   ],
   "source": [
    "# Use the head() method to display the first few rows of the data.\n",
    "df.head()"
   ]
  },
  {
   "cell_type": "code",
   "execution_count": 4,
   "metadata": {},
   "outputs": [
    {
     "data": {
      "text/html": [
       "<div>\n",
       "<style scoped>\n",
       "    .dataframe tbody tr th:only-of-type {\n",
       "        vertical-align: middle;\n",
       "    }\n",
       "\n",
       "    .dataframe tbody tr th {\n",
       "        vertical-align: top;\n",
       "    }\n",
       "\n",
       "    .dataframe thead th {\n",
       "        text-align: right;\n",
       "    }\n",
       "</style>\n",
       "<table border=\"1\" class=\"dataframe\">\n",
       "  <thead>\n",
       "    <tr style=\"text-align: right;\">\n",
       "      <th></th>\n",
       "      <th>Campaign_ID</th>\n",
       "      <th>Channel</th>\n",
       "      <th>Product_Category</th>\n",
       "      <th>Region</th>\n",
       "      <th>Budget</th>\n",
       "      <th>Spend</th>\n",
       "      <th>Impressions</th>\n",
       "      <th>Clicks</th>\n",
       "      <th>CTR</th>\n",
       "      <th>Conversions</th>\n",
       "      <th>CR</th>\n",
       "      <th>Revenue</th>\n",
       "      <th>ROI</th>\n",
       "      <th>Duration</th>\n",
       "      <th>Start_Date</th>\n",
       "      <th>End_Date</th>\n",
       "      <th>Customer_Satisfaction</th>\n",
       "      <th>Campaign_Effectiveness</th>\n",
       "      <th>Market_Segment</th>\n",
       "    </tr>\n",
       "  </thead>\n",
       "  <tbody>\n",
       "    <tr>\n",
       "      <th>4995</th>\n",
       "      <td>CAM4996</td>\n",
       "      <td>Email</td>\n",
       "      <td>Automotive</td>\n",
       "      <td>Kuala Lumpur</td>\n",
       "      <td>373204.0</td>\n",
       "      <td>239182.0</td>\n",
       "      <td>947505.000</td>\n",
       "      <td>27359.0</td>\n",
       "      <td>0.4446</td>\n",
       "      <td>2725.0</td>\n",
       "      <td>0.1643</td>\n",
       "      <td>739721.0</td>\n",
       "      <td>17.287862</td>\n",
       "      <td>170.0</td>\n",
       "      <td>4/4/2023</td>\n",
       "      <td>15/12/2023</td>\n",
       "      <td>4.0</td>\n",
       "      <td>5.0</td>\n",
       "      <td>Low</td>\n",
       "    </tr>\n",
       "    <tr>\n",
       "      <th>4996</th>\n",
       "      <td>CAM4997</td>\n",
       "      <td>Radio</td>\n",
       "      <td>Electronics</td>\n",
       "      <td>Kuala Lumpur</td>\n",
       "      <td>81357.0</td>\n",
       "      <td>381641.0</td>\n",
       "      <td>270685.000</td>\n",
       "      <td>2575.0</td>\n",
       "      <td>0.8224</td>\n",
       "      <td>1555.0</td>\n",
       "      <td>0.2425</td>\n",
       "      <td>324435.0</td>\n",
       "      <td>1.500000</td>\n",
       "      <td>148.0</td>\n",
       "      <td>28/1/2023</td>\n",
       "      <td>26/12/2023</td>\n",
       "      <td>2.0</td>\n",
       "      <td>7.0</td>\n",
       "      <td>Low</td>\n",
       "    </tr>\n",
       "    <tr>\n",
       "      <th>4997</th>\n",
       "      <td>CAM4998</td>\n",
       "      <td>Radio</td>\n",
       "      <td>NaN</td>\n",
       "      <td>Kuala Lumpur</td>\n",
       "      <td>216060.0</td>\n",
       "      <td>122475.0</td>\n",
       "      <td>6042568.044</td>\n",
       "      <td>42563.0</td>\n",
       "      <td>0.5894</td>\n",
       "      <td>NaN</td>\n",
       "      <td>NaN</td>\n",
       "      <td>647246.0</td>\n",
       "      <td>NaN</td>\n",
       "      <td>340.0</td>\n",
       "      <td>7/6/2023</td>\n",
       "      <td>6/12/2023</td>\n",
       "      <td>3.0</td>\n",
       "      <td>5.0</td>\n",
       "      <td>NaN</td>\n",
       "    </tr>\n",
       "    <tr>\n",
       "      <th>4998</th>\n",
       "      <td>CAM4999</td>\n",
       "      <td>Social Media</td>\n",
       "      <td>Electronics</td>\n",
       "      <td>Kuala Lumpur</td>\n",
       "      <td>120531.0</td>\n",
       "      <td>433558.0</td>\n",
       "      <td>857140.000</td>\n",
       "      <td>7037.0</td>\n",
       "      <td>0.2863</td>\n",
       "      <td>3374.0</td>\n",
       "      <td>0.9039</td>\n",
       "      <td>373110.0</td>\n",
       "      <td>0.390000</td>\n",
       "      <td>76.0</td>\n",
       "      <td>2/11/2023</td>\n",
       "      <td>23/8/2023</td>\n",
       "      <td>2.0</td>\n",
       "      <td>1.0</td>\n",
       "      <td>Medium</td>\n",
       "    </tr>\n",
       "    <tr>\n",
       "      <th>4999</th>\n",
       "      <td>CAM5000</td>\n",
       "      <td>TV</td>\n",
       "      <td>Automotive</td>\n",
       "      <td>Sabah</td>\n",
       "      <td>476378.0</td>\n",
       "      <td>261529.0</td>\n",
       "      <td>308009.000</td>\n",
       "      <td>45922.0</td>\n",
       "      <td>0.5187</td>\n",
       "      <td>3047.0</td>\n",
       "      <td>0.0438</td>\n",
       "      <td>146303.0</td>\n",
       "      <td>0.770000</td>\n",
       "      <td>330.0</td>\n",
       "      <td>1/1/2023</td>\n",
       "      <td>6/11/2023</td>\n",
       "      <td>1.0</td>\n",
       "      <td>1.0</td>\n",
       "      <td>High</td>\n",
       "    </tr>\n",
       "  </tbody>\n",
       "</table>\n",
       "</div>"
      ],
      "text/plain": [
       "     Campaign_ID       Channel Product_Category        Region    Budget  \\\n",
       "4995     CAM4996         Email       Automotive  Kuala Lumpur  373204.0   \n",
       "4996     CAM4997         Radio      Electronics  Kuala Lumpur   81357.0   \n",
       "4997     CAM4998         Radio              NaN  Kuala Lumpur  216060.0   \n",
       "4998     CAM4999  Social Media      Electronics  Kuala Lumpur  120531.0   \n",
       "4999     CAM5000            TV       Automotive         Sabah  476378.0   \n",
       "\n",
       "         Spend  Impressions   Clicks     CTR  Conversions      CR   Revenue  \\\n",
       "4995  239182.0   947505.000  27359.0  0.4446       2725.0  0.1643  739721.0   \n",
       "4996  381641.0   270685.000   2575.0  0.8224       1555.0  0.2425  324435.0   \n",
       "4997  122475.0  6042568.044  42563.0  0.5894          NaN     NaN  647246.0   \n",
       "4998  433558.0   857140.000   7037.0  0.2863       3374.0  0.9039  373110.0   \n",
       "4999  261529.0   308009.000  45922.0  0.5187       3047.0  0.0438  146303.0   \n",
       "\n",
       "            ROI  Duration Start_Date    End_Date  Customer_Satisfaction  \\\n",
       "4995  17.287862     170.0   4/4/2023  15/12/2023                    4.0   \n",
       "4996   1.500000     148.0  28/1/2023  26/12/2023                    2.0   \n",
       "4997        NaN     340.0   7/6/2023   6/12/2023                    3.0   \n",
       "4998   0.390000      76.0  2/11/2023   23/8/2023                    2.0   \n",
       "4999   0.770000     330.0   1/1/2023   6/11/2023                    1.0   \n",
       "\n",
       "      Campaign_Effectiveness Market_Segment  \n",
       "4995                     5.0            Low  \n",
       "4996                     7.0            Low  \n",
       "4997                     5.0            NaN  \n",
       "4998                     1.0         Medium  \n",
       "4999                     1.0           High  "
      ]
     },
     "execution_count": 4,
     "metadata": {},
     "output_type": "execute_result"
    }
   ],
   "source": [
    "# Use the tail() method to display the last few rows of the data.\n",
    "df.tail()"
   ]
  },
  {
   "cell_type": "code",
   "execution_count": 5,
   "metadata": {},
   "outputs": [
    {
     "name": "stdout",
     "output_type": "stream",
     "text": [
      "<class 'pandas.core.frame.DataFrame'>\n",
      "RangeIndex: 5000 entries, 0 to 4999\n",
      "Data columns (total 19 columns):\n",
      " #   Column                  Non-Null Count  Dtype  \n",
      "---  ------                  --------------  -----  \n",
      " 0   Campaign_ID             4741 non-null   object \n",
      " 1   Channel                 4746 non-null   object \n",
      " 2   Product_Category        4733 non-null   object \n",
      " 3   Region                  4739 non-null   object \n",
      " 4   Budget                  4500 non-null   float64\n",
      " 5   Spend                   4501 non-null   float64\n",
      " 6   Impressions             4496 non-null   float64\n",
      " 7   Clicks                  4514 non-null   float64\n",
      " 8   CTR                     4502 non-null   float64\n",
      " 9   Conversions             4506 non-null   float64\n",
      " 10  CR                      4504 non-null   float64\n",
      " 11  Revenue                 4491 non-null   float64\n",
      " 12  ROI                     4505 non-null   float64\n",
      " 13  Duration                4521 non-null   float64\n",
      " 14  Start_Date              4741 non-null   object \n",
      " 15  End_Date                4743 non-null   object \n",
      " 16  Customer_Satisfaction   4508 non-null   float64\n",
      " 17  Campaign_Effectiveness  4510 non-null   float64\n",
      " 18  Market_Segment          4738 non-null   object \n",
      "dtypes: float64(12), object(7)\n",
      "memory usage: 742.3+ KB\n"
     ]
    }
   ],
   "source": [
    "#Use the info() method to display the data types of each column.\n",
    "#This will give us the name and number of columns, the number of rows and the data type of each column.\n",
    "#We see here that we are working with 19 columns and 5000 rows, consisting of integers, floats, and objects.\n",
    "df.info()"
   ]
  },
  {
   "cell_type": "code",
   "execution_count": 6,
   "metadata": {},
   "outputs": [
    {
     "data": {
      "text/plain": [
       "(5000, 19)"
      ]
     },
     "execution_count": 6,
     "metadata": {},
     "output_type": "execute_result"
    }
   ],
   "source": [
    "#Use the shape attribute to display the number of rows and columns in the data.\n",
    "df.shape"
   ]
  },
  {
   "cell_type": "markdown",
   "metadata": {},
   "source": [
    "##### Step 4 - Data cleansing"
   ]
  },
  {
   "cell_type": "markdown",
   "metadata": {},
   "source": [
    "\"Data cleansing or data cleaning is the process of identifying and correcting (or removing) corrupt, inaccurate, or irrelevant records from a dataset, table, or database. It involves detecting incomplete, incorrect, or inaccurate parts of the data and then replacing, modifying, or deleting the affected data.\" Wu, S. (2013)"
   ]
  },
  {
   "cell_type": "code",
   "execution_count": 7,
   "metadata": {},
   "outputs": [
    {
     "data": {
      "text/plain": [
       "0"
      ]
     },
     "execution_count": 7,
     "metadata": {},
     "output_type": "execute_result"
    }
   ],
   "source": [
    "#Use the duplicated() method to count the number of duplicate rows in the data.\n",
    "#We see that there are no duplicate rows in the data.\n",
    "duplicated = df.duplicated().sum()\n",
    "int(duplicated)"
   ]
  },
  {
   "cell_type": "code",
   "execution_count": 8,
   "metadata": {},
   "outputs": [
    {
     "data": {
      "text/plain": [
       "Campaign_ID               259\n",
       "Channel                   254\n",
       "Product_Category          267\n",
       "Region                    261\n",
       "Budget                    500\n",
       "Spend                     499\n",
       "Impressions               504\n",
       "Clicks                    486\n",
       "CTR                       498\n",
       "Conversions               494\n",
       "CR                        496\n",
       "Revenue                   509\n",
       "ROI                       495\n",
       "Duration                  479\n",
       "Start_Date                259\n",
       "End_Date                  257\n",
       "Customer_Satisfaction     492\n",
       "Campaign_Effectiveness    490\n",
       "Market_Segment            262\n",
       "dtype: int64"
      ]
     },
     "execution_count": 8,
     "metadata": {},
     "output_type": "execute_result"
    }
   ],
   "source": [
    "#Use isnull() and sum() methods to count the number of missing values in each column.\n",
    "isnull = df.isnull().sum()\n",
    "isnull"
   ]
  },
  {
   "cell_type": "markdown",
   "metadata": {},
   "source": []
  },
  {
   "cell_type": "code",
   "execution_count": 9,
   "metadata": {},
   "outputs": [
    {
     "data": {
      "text/plain": [
       "<Axes: >"
      ]
     },
     "execution_count": 9,
     "metadata": {},
     "output_type": "execute_result"
    },
    {
     "data": {
      "image/png": "[encoded data removed]",
      "text/plain": [
       "<Figure size 640x480 with 1 Axes>"
      ]
     },
     "metadata": {},
     "output_type": "display_data"
    }
   ],
   "source": [
    "#Use a heatmap to visualize the missing values in the data.\n",
    "sns.heatmap(df.isnull(), cbar=False)"
   ]
  },
  {
   "cell_type": "code",
   "execution_count": 10,
   "metadata": {},
   "outputs": [
    {
     "data": {
      "text/plain": [
       "Campaign_ID                5.18\n",
       "Channel                    5.08\n",
       "Product_Category           5.34\n",
       "Region                     5.22\n",
       "Budget                    10.00\n",
       "Spend                      9.98\n",
       "Impressions               10.08\n",
       "Clicks                     9.72\n",
       "CTR                        9.96\n",
       "Conversions                9.88\n",
       "CR                         9.92\n",
       "Revenue                   10.18\n",
       "ROI                        9.90\n",
       "Duration                   9.58\n",
       "Start_Date                 5.18\n",
       "End_Date                   5.14\n",
       "Customer_Satisfaction      9.84\n",
       "Campaign_Effectiveness     9.80\n",
       "Market_Segment             5.24\n",
       "dtype: float64"
      ]
     },
     "execution_count": 10,
     "metadata": {},
     "output_type": "execute_result"
    }
   ],
   "source": [
    "#Use the isnull() and sum() methods to calculate the percentage of missing values in each column. \n",
    "#This will tell us if there are any columns with a high percentage of missing values.\n",
    "#As a rule of thumb, columns with more than 30% missing values are usually removed from the data. \n",
    "df.isnull().sum() / df.shape[0] * 100"
   ]
  },
  {
   "cell_type": "markdown",
   "metadata": {},
   "source": [
    "#### Fix the null values"
   ]
  },
  {
   "cell_type": "code",
   "execution_count": 23,
   "metadata": {},
   "outputs": [],
   "source": [
    "#Since the campaign_id column follows a pattern, we can fill in the missing values easily.\n",
    "df['Campaign_ID'].fillna(df.index.to_series().apply(lambda x: f'CAM{x+1:04d}'), inplace=True)"
   ]
  },
  {
   "cell_type": "code",
   "execution_count": 24,
   "metadata": {},
   "outputs": [
    {
     "data": {
      "text/plain": [
       "Campaign_ID                 0\n",
       "Channel                   254\n",
       "Product_Category          267\n",
       "Region                    261\n",
       "Budget                    500\n",
       "Spend                     499\n",
       "Impressions               504\n",
       "Clicks                    486\n",
       "CTR                       498\n",
       "Conversions               494\n",
       "CR                        496\n",
       "Revenue                   509\n",
       "ROI                       495\n",
       "Duration                  479\n",
       "Start_Date                259\n",
       "End_Date                  257\n",
       "Customer_Satisfaction     492\n",
       "Campaign_Effectiveness    490\n",
       "Market_Segment            262\n",
       "dtype: int64"
      ]
     },
     "execution_count": 24,
     "metadata": {},
     "output_type": "execute_result"
    }
   ],
   "source": [
    "#As we can see, the missing values in the Campaign_ID column have been filled in and there are no missing values in the column.\n",
    "isnull = df.isnull().sum()\n",
    "isnull"
   ]
  }
 ],
 "metadata": {
  "kernelspec": {
   "display_name": "Python 3",
   "language": "python",
   "name": "python3"
  },
  "language_info": {
   "codemirror_mode": {
    "name": "ipython",
    "version": 3
   },
   "file_extension": ".py",
   "mimetype": "text/x-python",
   "name": "python",
   "nbconvert_exporter": "python",
   "pygments_lexer": "ipython3",
   "version": "3.11.9"
  }
 },
 "nbformat": 4,
 "nbformat_minor": 2
}
