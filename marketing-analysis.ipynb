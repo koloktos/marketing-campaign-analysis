{
 "cells": [
  {
   "cell_type": "markdown",
   "metadata": {},
   "source": [
    "##### Step 1 - Import necessary libraries"
   ]
  },
  {
   "cell_type": "code",
   "execution_count": 32,
   "metadata": {},
   "outputs": [],
   "source": [
    "import numpy as np\n",
    "import pandas as pd\n",
    "import matplotlib.pyplot as plt\n",
    "import seaborn as sns\n",
    "import plotly as px"
   ]
  },
  {
   "cell_type": "markdown",
   "metadata": {},
   "source": [
    "##### Step 2 - Import data and create a pandas dataframe"
   ]
  },
  {
   "cell_type": "code",
   "execution_count": 33,
   "metadata": {},
   "outputs": [],
   "source": [
    "df = pd.read_csv(r'data/marketing-data.csv')"
   ]
  },
  {
   "cell_type": "markdown",
   "metadata": {},
   "source": [
    "### PREPROCESS"
   ]
  },
  {
   "cell_type": "markdown",
   "metadata": {},
   "source": [
    "##### Step 3 - Get general information of the dataset"
   ]
  },
  {
   "cell_type": "code",
   "execution_count": 55,
   "metadata": {},
   "outputs": [
    {
     "data": {
      "text/html": [
       "<div>\n",
       "<style scoped>\n",
       "    .dataframe tbody tr th:only-of-type {\n",
       "        vertical-align: middle;\n",
       "    }\n",
       "\n",
       "    .dataframe tbody tr th {\n",
       "        vertical-align: top;\n",
       "    }\n",
       "\n",
       "    .dataframe thead th {\n",
       "        text-align: right;\n",
       "    }\n",
       "</style>\n",
       "<table border=\"1\" class=\"dataframe\">\n",
       "  <thead>\n",
       "    <tr style=\"text-align: right;\">\n",
       "      <th></th>\n",
       "      <th>Campaign_ID</th>\n",
       "      <th>Channel</th>\n",
       "      <th>Product_Category</th>\n",
       "      <th>Region</th>\n",
       "      <th>Budget</th>\n",
       "      <th>Spend</th>\n",
       "      <th>Impressions</th>\n",
       "      <th>Clicks</th>\n",
       "      <th>CTR</th>\n",
       "      <th>Conversions</th>\n",
       "      <th>CR</th>\n",
       "      <th>Revenue</th>\n",
       "      <th>ROI</th>\n",
       "      <th>Duration</th>\n",
       "      <th>Start_Date</th>\n",
       "      <th>End_Date</th>\n",
       "      <th>Customer_Satisfaction</th>\n",
       "      <th>Campaign_Effectiveness</th>\n",
       "      <th>Market_Segment</th>\n",
       "    </tr>\n",
       "  </thead>\n",
       "  <tbody>\n",
       "    <tr>\n",
       "      <th>0</th>\n",
       "      <td>CAM0001</td>\n",
       "      <td>Billboard</td>\n",
       "      <td>Fashion</td>\n",
       "      <td>Kuala Lumpur</td>\n",
       "      <td>484341.0</td>\n",
       "      <td>197038.0</td>\n",
       "      <td>545901.0</td>\n",
       "      <td>NaN</td>\n",
       "      <td>0.0785</td>\n",
       "      <td>7993.0</td>\n",
       "      <td>0.3414</td>\n",
       "      <td>849005.0</td>\n",
       "      <td>0.64</td>\n",
       "      <td>212.0</td>\n",
       "      <td>2023-03-02</td>\n",
       "      <td>2023-12-23</td>\n",
       "      <td>3.0</td>\n",
       "      <td>3.0</td>\n",
       "      <td>Medium</td>\n",
       "    </tr>\n",
       "    <tr>\n",
       "      <th>1</th>\n",
       "      <td>CAM0002</td>\n",
       "      <td>NaN</td>\n",
       "      <td>Health</td>\n",
       "      <td>Sarawak</td>\n",
       "      <td>468792.0</td>\n",
       "      <td>33743.0</td>\n",
       "      <td>527513.0</td>\n",
       "      <td>4130.0</td>\n",
       "      <td>0.9479</td>\n",
       "      <td>9459.0</td>\n",
       "      <td>NaN</td>\n",
       "      <td>921078.0</td>\n",
       "      <td>3.78</td>\n",
       "      <td>29.0</td>\n",
       "      <td>NaT</td>\n",
       "      <td>NaT</td>\n",
       "      <td>3.0</td>\n",
       "      <td>7.0</td>\n",
       "      <td>Medium</td>\n",
       "    </tr>\n",
       "    <tr>\n",
       "      <th>2</th>\n",
       "      <td>CAM0003</td>\n",
       "      <td>Radio</td>\n",
       "      <td>Electronics</td>\n",
       "      <td>Penang</td>\n",
       "      <td>10487.0</td>\n",
       "      <td>6745.0</td>\n",
       "      <td>806911.0</td>\n",
       "      <td>12209.0</td>\n",
       "      <td>NaN</td>\n",
       "      <td>7168.0</td>\n",
       "      <td>0.0517</td>\n",
       "      <td>51142.0</td>\n",
       "      <td>3.64</td>\n",
       "      <td>74.0</td>\n",
       "      <td>2023-04-12</td>\n",
       "      <td>2023-10-20</td>\n",
       "      <td>1.0</td>\n",
       "      <td>2.0</td>\n",
       "      <td>Medium</td>\n",
       "    </tr>\n",
       "    <tr>\n",
       "      <th>3</th>\n",
       "      <td>CAM0004</td>\n",
       "      <td>Email</td>\n",
       "      <td>Electronics</td>\n",
       "      <td>Penang</td>\n",
       "      <td>345431.0</td>\n",
       "      <td>329112.0</td>\n",
       "      <td>108570.0</td>\n",
       "      <td>34391.0</td>\n",
       "      <td>0.6157</td>\n",
       "      <td>7190.0</td>\n",
       "      <td>0.3579</td>\n",
       "      <td>191887.0</td>\n",
       "      <td>2.64</td>\n",
       "      <td>67.0</td>\n",
       "      <td>2023-04-24</td>\n",
       "      <td>2023-01-26</td>\n",
       "      <td>5.0</td>\n",
       "      <td>6.0</td>\n",
       "      <td>High</td>\n",
       "    </tr>\n",
       "    <tr>\n",
       "      <th>4</th>\n",
       "      <td>CAM0005</td>\n",
       "      <td>Radio</td>\n",
       "      <td>Fashion</td>\n",
       "      <td>Kuala Lumpur</td>\n",
       "      <td>322345.0</td>\n",
       "      <td>34365.0</td>\n",
       "      <td>799855.0</td>\n",
       "      <td>13056.0</td>\n",
       "      <td>NaN</td>\n",
       "      <td>1794.0</td>\n",
       "      <td>0.0544</td>\n",
       "      <td>167241.0</td>\n",
       "      <td>1.02</td>\n",
       "      <td>40.0</td>\n",
       "      <td>2023-01-10</td>\n",
       "      <td>2023-01-01</td>\n",
       "      <td>5.0</td>\n",
       "      <td>6.0</td>\n",
       "      <td>Low</td>\n",
       "    </tr>\n",
       "  </tbody>\n",
       "</table>\n",
       "</div>"
      ],
      "text/plain": [
       "  Campaign_ID    Channel Product_Category        Region    Budget     Spend  \\\n",
       "0     CAM0001  Billboard          Fashion  Kuala Lumpur  484341.0  197038.0   \n",
       "1     CAM0002        NaN           Health       Sarawak  468792.0   33743.0   \n",
       "2     CAM0003      Radio      Electronics        Penang   10487.0    6745.0   \n",
       "3     CAM0004      Email      Electronics        Penang  345431.0  329112.0   \n",
       "4     CAM0005      Radio          Fashion  Kuala Lumpur  322345.0   34365.0   \n",
       "\n",
       "   Impressions   Clicks     CTR  Conversions      CR   Revenue   ROI  \\\n",
       "0     545901.0      NaN  0.0785       7993.0  0.3414  849005.0  0.64   \n",
       "1     527513.0   4130.0  0.9479       9459.0     NaN  921078.0  3.78   \n",
       "2     806911.0  12209.0     NaN       7168.0  0.0517   51142.0  3.64   \n",
       "3     108570.0  34391.0  0.6157       7190.0  0.3579  191887.0  2.64   \n",
       "4     799855.0  13056.0     NaN       1794.0  0.0544  167241.0  1.02   \n",
       "\n",
       "   Duration Start_Date   End_Date  Customer_Satisfaction  \\\n",
       "0     212.0 2023-03-02 2023-12-23                    3.0   \n",
       "1      29.0        NaT        NaT                    3.0   \n",
       "2      74.0 2023-04-12 2023-10-20                    1.0   \n",
       "3      67.0 2023-04-24 2023-01-26                    5.0   \n",
       "4      40.0 2023-01-10 2023-01-01                    5.0   \n",
       "\n",
       "   Campaign_Effectiveness Market_Segment  \n",
       "0                     3.0         Medium  \n",
       "1                     7.0         Medium  \n",
       "2                     2.0         Medium  \n",
       "3                     6.0           High  \n",
       "4                     6.0            Low  "
      ]
     },
     "execution_count": 55,
     "metadata": {},
     "output_type": "execute_result"
    }
   ],
   "source": [
    "# Use the head() method to display the first few rows of the data.\n",
    "df.head()"
   ]
  },
  {
   "cell_type": "code",
   "execution_count": 35,
   "metadata": {},
   "outputs": [
    {
     "data": {
      "text/html": [
       "<div>\n",
       "<style scoped>\n",
       "    .dataframe tbody tr th:only-of-type {\n",
       "        vertical-align: middle;\n",
       "    }\n",
       "\n",
       "    .dataframe tbody tr th {\n",
       "        vertical-align: top;\n",
       "    }\n",
       "\n",
       "    .dataframe thead th {\n",
       "        text-align: right;\n",
       "    }\n",
       "</style>\n",
       "<table border=\"1\" class=\"dataframe\">\n",
       "  <thead>\n",
       "    <tr style=\"text-align: right;\">\n",
       "      <th></th>\n",
       "      <th>Campaign_ID</th>\n",
       "      <th>Channel</th>\n",
       "      <th>Product_Category</th>\n",
       "      <th>Region</th>\n",
       "      <th>Budget</th>\n",
       "      <th>Spend</th>\n",
       "      <th>Impressions</th>\n",
       "      <th>Clicks</th>\n",
       "      <th>CTR</th>\n",
       "      <th>Conversions</th>\n",
       "      <th>CR</th>\n",
       "      <th>Revenue</th>\n",
       "      <th>ROI</th>\n",
       "      <th>Duration</th>\n",
       "      <th>Start_Date</th>\n",
       "      <th>End_Date</th>\n",
       "      <th>Customer_Satisfaction</th>\n",
       "      <th>Campaign_Effectiveness</th>\n",
       "      <th>Market_Segment</th>\n",
       "    </tr>\n",
       "  </thead>\n",
       "  <tbody>\n",
       "    <tr>\n",
       "      <th>4995</th>\n",
       "      <td>CAM4996</td>\n",
       "      <td>Email</td>\n",
       "      <td>Automotive</td>\n",
       "      <td>Kuala Lumpur</td>\n",
       "      <td>373204.0</td>\n",
       "      <td>239182.0</td>\n",
       "      <td>947505.000</td>\n",
       "      <td>27359.0</td>\n",
       "      <td>0.4446</td>\n",
       "      <td>2725.0</td>\n",
       "      <td>0.1643</td>\n",
       "      <td>739721.0</td>\n",
       "      <td>17.287862</td>\n",
       "      <td>170.0</td>\n",
       "      <td>4/4/2023</td>\n",
       "      <td>15/12/2023</td>\n",
       "      <td>4.0</td>\n",
       "      <td>5.0</td>\n",
       "      <td>Low</td>\n",
       "    </tr>\n",
       "    <tr>\n",
       "      <th>4996</th>\n",
       "      <td>CAM4997</td>\n",
       "      <td>Radio</td>\n",
       "      <td>Electronics</td>\n",
       "      <td>Kuala Lumpur</td>\n",
       "      <td>81357.0</td>\n",
       "      <td>381641.0</td>\n",
       "      <td>270685.000</td>\n",
       "      <td>2575.0</td>\n",
       "      <td>0.8224</td>\n",
       "      <td>1555.0</td>\n",
       "      <td>0.2425</td>\n",
       "      <td>324435.0</td>\n",
       "      <td>1.500000</td>\n",
       "      <td>148.0</td>\n",
       "      <td>28/1/2023</td>\n",
       "      <td>26/12/2023</td>\n",
       "      <td>2.0</td>\n",
       "      <td>7.0</td>\n",
       "      <td>Low</td>\n",
       "    </tr>\n",
       "    <tr>\n",
       "      <th>4997</th>\n",
       "      <td>CAM4998</td>\n",
       "      <td>Radio</td>\n",
       "      <td>NaN</td>\n",
       "      <td>Kuala Lumpur</td>\n",
       "      <td>216060.0</td>\n",
       "      <td>122475.0</td>\n",
       "      <td>6042568.044</td>\n",
       "      <td>42563.0</td>\n",
       "      <td>0.5894</td>\n",
       "      <td>NaN</td>\n",
       "      <td>NaN</td>\n",
       "      <td>647246.0</td>\n",
       "      <td>NaN</td>\n",
       "      <td>340.0</td>\n",
       "      <td>7/6/2023</td>\n",
       "      <td>6/12/2023</td>\n",
       "      <td>3.0</td>\n",
       "      <td>5.0</td>\n",
       "      <td>NaN</td>\n",
       "    </tr>\n",
       "    <tr>\n",
       "      <th>4998</th>\n",
       "      <td>CAM4999</td>\n",
       "      <td>Social Media</td>\n",
       "      <td>Electronics</td>\n",
       "      <td>Kuala Lumpur</td>\n",
       "      <td>120531.0</td>\n",
       "      <td>433558.0</td>\n",
       "      <td>857140.000</td>\n",
       "      <td>7037.0</td>\n",
       "      <td>0.2863</td>\n",
       "      <td>3374.0</td>\n",
       "      <td>0.9039</td>\n",
       "      <td>373110.0</td>\n",
       "      <td>0.390000</td>\n",
       "      <td>76.0</td>\n",
       "      <td>2/11/2023</td>\n",
       "      <td>23/8/2023</td>\n",
       "      <td>2.0</td>\n",
       "      <td>1.0</td>\n",
       "      <td>Medium</td>\n",
       "    </tr>\n",
       "    <tr>\n",
       "      <th>4999</th>\n",
       "      <td>CAM5000</td>\n",
       "      <td>TV</td>\n",
       "      <td>Automotive</td>\n",
       "      <td>Sabah</td>\n",
       "      <td>476378.0</td>\n",
       "      <td>261529.0</td>\n",
       "      <td>308009.000</td>\n",
       "      <td>45922.0</td>\n",
       "      <td>0.5187</td>\n",
       "      <td>3047.0</td>\n",
       "      <td>0.0438</td>\n",
       "      <td>146303.0</td>\n",
       "      <td>0.770000</td>\n",
       "      <td>330.0</td>\n",
       "      <td>1/1/2023</td>\n",
       "      <td>6/11/2023</td>\n",
       "      <td>1.0</td>\n",
       "      <td>1.0</td>\n",
       "      <td>High</td>\n",
       "    </tr>\n",
       "  </tbody>\n",
       "</table>\n",
       "</div>"
      ],
      "text/plain": [
       "     Campaign_ID       Channel Product_Category        Region    Budget  \\\n",
       "4995     CAM4996         Email       Automotive  Kuala Lumpur  373204.0   \n",
       "4996     CAM4997         Radio      Electronics  Kuala Lumpur   81357.0   \n",
       "4997     CAM4998         Radio              NaN  Kuala Lumpur  216060.0   \n",
       "4998     CAM4999  Social Media      Electronics  Kuala Lumpur  120531.0   \n",
       "4999     CAM5000            TV       Automotive         Sabah  476378.0   \n",
       "\n",
       "         Spend  Impressions   Clicks     CTR  Conversions      CR   Revenue  \\\n",
       "4995  239182.0   947505.000  27359.0  0.4446       2725.0  0.1643  739721.0   \n",
       "4996  381641.0   270685.000   2575.0  0.8224       1555.0  0.2425  324435.0   \n",
       "4997  122475.0  6042568.044  42563.0  0.5894          NaN     NaN  647246.0   \n",
       "4998  433558.0   857140.000   7037.0  0.2863       3374.0  0.9039  373110.0   \n",
       "4999  261529.0   308009.000  45922.0  0.5187       3047.0  0.0438  146303.0   \n",
       "\n",
       "            ROI  Duration Start_Date    End_Date  Customer_Satisfaction  \\\n",
       "4995  17.287862     170.0   4/4/2023  15/12/2023                    4.0   \n",
       "4996   1.500000     148.0  28/1/2023  26/12/2023                    2.0   \n",
       "4997        NaN     340.0   7/6/2023   6/12/2023                    3.0   \n",
       "4998   0.390000      76.0  2/11/2023   23/8/2023                    2.0   \n",
       "4999   0.770000     330.0   1/1/2023   6/11/2023                    1.0   \n",
       "\n",
       "      Campaign_Effectiveness Market_Segment  \n",
       "4995                     5.0            Low  \n",
       "4996                     7.0            Low  \n",
       "4997                     5.0            NaN  \n",
       "4998                     1.0         Medium  \n",
       "4999                     1.0           High  "
      ]
     },
     "execution_count": 35,
     "metadata": {},
     "output_type": "execute_result"
    }
   ],
   "source": [
    "# Use the tail() method to display the last few rows of the data.\n",
    "df.tail()"
   ]
  },
  {
   "cell_type": "code",
   "execution_count": 36,
   "metadata": {},
   "outputs": [
    {
     "data": {
      "text/plain": [
       "Region\n",
       "Kuala Lumpur    988\n",
       "Sarawak         975\n",
       "Sabah           927\n",
       "Penang          922\n",
       "Johor           914\n",
       "Malacca          13\n",
       "Name: count, dtype: int64"
      ]
     },
     "execution_count": 36,
     "metadata": {},
     "output_type": "execute_result"
    }
   ],
   "source": [
    "#make a code to count value of the region column   \n",
    "df['Region'].value_counts()"
   ]
  },
  {
   "cell_type": "code",
   "execution_count": 37,
   "metadata": {},
   "outputs": [
    {
     "data": {
      "text/plain": [
       "88.91494937"
      ]
     },
     "execution_count": 37,
     "metadata": {},
     "output_type": "execute_result"
    }
   ],
   "source": [
    "#show me the highest value of the Campaign_Effectiveness column\n",
    "df['Campaign_Effectiveness'].max()\n"
   ]
  },
  {
   "cell_type": "code",
   "execution_count": 38,
   "metadata": {},
   "outputs": [
    {
     "data": {
      "text/plain": [
       "(5000, 19)"
      ]
     },
     "execution_count": 38,
     "metadata": {},
     "output_type": "execute_result"
    }
   ],
   "source": [
    "#Use the shape attribute to display the number of rows and columns in the data.\n",
    "df.shape"
   ]
  },
  {
   "cell_type": "markdown",
   "metadata": {},
   "source": [
    "##### Step 4 - Data cleansing"
   ]
  },
  {
   "cell_type": "markdown",
   "metadata": {},
   "source": [
    "\"Data cleansing or data cleaning is the process of identifying and correcting (or removing) corrupt, inaccurate, or irrelevant records from a dataset, table, or database. It involves detecting incomplete, incorrect, or inaccurate parts of the data and then replacing, modifying, or deleting the affected data.\" Wu, S. (2013)"
   ]
  },
  {
   "cell_type": "code",
   "execution_count": 39,
   "metadata": {},
   "outputs": [
    {
     "data": {
      "text/plain": [
       "0"
      ]
     },
     "execution_count": 39,
     "metadata": {},
     "output_type": "execute_result"
    }
   ],
   "source": [
    "#Use the duplicated() method to count the number of duplicate rows in the data.\n",
    "#We see that there are no duplicate rows in the data.\n",
    "duplicated = df.duplicated().sum()\n",
    "int(duplicated)"
   ]
  },
  {
   "cell_type": "code",
   "execution_count": 40,
   "metadata": {},
   "outputs": [
    {
     "data": {
      "text/plain": [
       "Campaign_ID               259\n",
       "Channel                   254\n",
       "Product_Category          267\n",
       "Region                    261\n",
       "Budget                    500\n",
       "Spend                     499\n",
       "Impressions               504\n",
       "Clicks                    486\n",
       "CTR                       498\n",
       "Conversions               494\n",
       "CR                        496\n",
       "Revenue                   509\n",
       "ROI                       495\n",
       "Duration                  479\n",
       "Start_Date                259\n",
       "End_Date                  257\n",
       "Customer_Satisfaction     492\n",
       "Campaign_Effectiveness    490\n",
       "Market_Segment            262\n",
       "dtype: int64"
      ]
     },
     "execution_count": 40,
     "metadata": {},
     "output_type": "execute_result"
    }
   ],
   "source": [
    "#Use isnull() and sum() methods to count the number of missing values in each column.\n",
    "isnull = df.isnull().sum()\n",
    "isnull"
   ]
  },
  {
   "cell_type": "markdown",
   "metadata": {},
   "source": [
    "#### Using a heatmap to visualize missing values"
   ]
  },
  {
   "cell_type": "code",
   "execution_count": 41,
   "metadata": {},
   "outputs": [
    {
     "data": {
      "text/plain": [
       "<Axes: >"
      ]
     },
     "execution_count": 41,
     "metadata": {},
     "output_type": "execute_result"
    },
    {
     "data": {
      "image/png": "[encoded data removed]",
      "text/plain": [
       "<Figure size 640x480 with 1 Axes>"
      ]
     },
     "metadata": {},
     "output_type": "display_data"
    }
   ],
   "source": [
    "#Use a heatmap to visualize the missing values in the data.\n",
    "sns.heatmap(df.isnull(), cbar=False)"
   ]
  },
  {
   "cell_type": "code",
   "execution_count": 42,
   "metadata": {},
   "outputs": [
    {
     "data": {
      "text/plain": [
       "Campaign_ID                5.18\n",
       "Channel                    5.08\n",
       "Product_Category           5.34\n",
       "Region                     5.22\n",
       "Budget                    10.00\n",
       "Spend                      9.98\n",
       "Impressions               10.08\n",
       "Clicks                     9.72\n",
       "CTR                        9.96\n",
       "Conversions                9.88\n",
       "CR                         9.92\n",
       "Revenue                   10.18\n",
       "ROI                        9.90\n",
       "Duration                   9.58\n",
       "Start_Date                 5.18\n",
       "End_Date                   5.14\n",
       "Customer_Satisfaction      9.84\n",
       "Campaign_Effectiveness     9.80\n",
       "Market_Segment             5.24\n",
       "dtype: float64"
      ]
     },
     "execution_count": 42,
     "metadata": {},
     "output_type": "execute_result"
    }
   ],
   "source": [
    "#Use the isnull() and sum() methods to calculate the percentage of missing values in each column. \n",
    "#This will tell us if there are any columns with a high percentage of missing values.\n",
    "#As a rule of thumb, columns with more than 30% missing values are usually removed from the data. \n",
    "df.isnull().sum() / df.shape[0] * 100"
   ]
  },
  {
   "cell_type": "markdown",
   "metadata": {},
   "source": [
    "### Fixing the null values"
   ]
  },
  {
   "cell_type": "markdown",
   "metadata": {},
   "source": [
    "##### Campaign_ID null values"
   ]
  },
  {
   "cell_type": "code",
   "execution_count": 43,
   "metadata": {},
   "outputs": [],
   "source": [
    "#Since the campaign_id column follows a pattern, we can fill in the missing values easily.\n",
    "df['Campaign_ID'].fillna(df.index.to_series().apply(lambda x: f'CAM{x+1:04d}'), inplace=True)"
   ]
  },
  {
   "cell_type": "code",
   "execution_count": 44,
   "metadata": {},
   "outputs": [
    {
     "data": {
      "text/plain": [
       "Campaign_ID                 0\n",
       "Channel                   254\n",
       "Product_Category          267\n",
       "Region                    261\n",
       "Budget                    500\n",
       "Spend                     499\n",
       "Impressions               504\n",
       "Clicks                    486\n",
       "CTR                       498\n",
       "Conversions               494\n",
       "CR                        496\n",
       "Revenue                   509\n",
       "ROI                       495\n",
       "Duration                  479\n",
       "Start_Date                259\n",
       "End_Date                  257\n",
       "Customer_Satisfaction     492\n",
       "Campaign_Effectiveness    490\n",
       "Market_Segment            262\n",
       "dtype: int64"
      ]
     },
     "execution_count": 44,
     "metadata": {},
     "output_type": "execute_result"
    }
   ],
   "source": [
    "#As we can see, the missing values in the Campaign_ID column have been filled in and there are no missing values in the column.\n",
    "isnull = df.isnull().sum()\n",
    "isnull"
   ]
  },
  {
   "cell_type": "markdown",
   "metadata": {},
   "source": [
    "#### Start_date, End_date and Duration columns' null values"
   ]
  },
  {
   "cell_type": "code",
   "execution_count": 49,
   "metadata": {},
   "outputs": [],
   "source": [
    "#To fix the missing values in the Start_Date, End_Date columns and Duration columns, we can follow these steps:\n",
    "\n",
    "# Convert columns to datetime\n",
    "df['Start_Date'] = pd.to_datetime(df['Start_Date'], format='%d/%m/%Y', errors='coerce')\n",
    "df['End_Date'] = pd.to_datetime(df['End_Date'], format='%d/%m/%Y', errors='coerce')\n",
    "\n",
    "# Fill in missing values based on available data\n",
    "# Case 1: If both Start_Date and End_Date are known, calculate Duration (absolute value)\n",
    "df.loc[df['Duration'].isnull() & df['Start_Date'].notnull() & df['End_Date'].notnull(), 'Duration'] = (\n",
    "    (df['End_Date'] - df['Start_Date']).abs().dt.days  # Convert to absolute number of days\n",
    ")\n",
    "\n",
    "# Case 2: If Start_Date and Duration are known, calculate End_Date\n",
    "df.loc[df['End_Date'].isnull() & df['Start_Date'].notnull() & df['Duration'].notnull(), 'End_Date'] = (\n",
    "    df['Start_Date'] + pd.to_timedelta(df['Duration'].abs(), unit='D')  # Ensure Duration is positive\n",
    ")\n",
    "\n",
    "# Case 3: If End_Date and Duration are known, calculate Start_Date\n",
    "df.loc[df['Start_Date'].isnull() & df['End_Date'].notnull() & df['Duration'].notnull(), 'Start_Date'] = (\n",
    "    df['End_Date'] - pd.to_timedelta(df['Duration'].abs(), unit='D')  # Ensure Duration is positive\n",
    ")"
   ]
  },
  {
   "cell_type": "markdown",
   "metadata": {},
   "source": [
    "This has reduced the number of null rows in these columns signifcantly. However, as there are some rows where we do not have neither the Start_Date nor the End_Date, it's not possible to get the duration. To solve this, we'll fill those rows with either the average, the median or the mode."
   ]
  },
  {
   "cell_type": "code",
   "execution_count": 50,
   "metadata": {},
   "outputs": [
    {
     "name": "stdout",
     "output_type": "stream",
     "text": [
      "Average Duration: 194.28\n",
      "Median Duration: 182.0\n",
      "Mode Duration: 0    115.0\n",
      "Name: Duration, dtype: float64\n"
     ]
    }
   ],
   "source": [
    "#Getting the average of the duration column\n",
    "avg_duration = df['Duration'].mean().round(2)\n",
    "\n",
    "#Getting the median of the duration column\n",
    "median_duration = df['Duration'].median().round(2)\n",
    "\n",
    "#Gett the mode of the duration column\n",
    "mode_duration = df['Duration'].mode().round(2)\n",
    "\n",
    "print('Average Duration:', avg_duration)\n",
    "print('Median Duration:', median_duration)\n",
    "print('Mode Duration:', mode_duration)"
   ]
  },
  {
   "cell_type": "markdown",
   "metadata": {},
   "source": [
    "In this case, each of the central tendency values (median, mean, and mode) provides different insights:\n",
    "\n",
    "Mean (194): Reflects the overall average but may be skewed by extreme values.\n",
    "\n",
    "Median (182): Represents the midpoint of the data and is generally robust to outliers, providing a good balance for skewed distributions.\n",
    "\n",
    "Mode (115): The most frequently occurring duration, useful if a significant portion of campaigns tend to last around this length.\n",
    "\n",
    "Since we only need to fill in 38 rows (less than 1% of our data), using the median (182) would be a strong choice here. The median is less affected by outliers than the mean and often provides a more balanced approach, especially when the mean and median are relatively close, as they are here."
   ]
  },
  {
   "cell_type": "code",
   "execution_count": 51,
   "metadata": {},
   "outputs": [],
   "source": [
    "#We fill the missing values in the Duration column with the median value.\n",
    "df['Duration'].fillna(median_duration, inplace=True)"
   ]
  },
  {
   "cell_type": "markdown",
   "metadata": {},
   "source": [
    "Now that we've filled the Duration column completely, we can use that information to fill some of the missing Start_Date and End_Date values."
   ]
  },
  {
   "cell_type": "code",
   "execution_count": 53,
   "metadata": {},
   "outputs": [],
   "source": [
    "# Case 1: If Start_Date and Duration are known, calculate End_Date\n",
    "df.loc[df['End_Date'].isnull() & df['Start_Date'].notnull() & df['Duration'].notnull(), 'End_Date'] = (\n",
    "    df['Start_Date'] + pd.to_timedelta(df['Duration'].abs(), unit='D')  # Ensure Duration is positive\n",
    ")\n",
    "\n",
    "# Case 2: If End_Date and Duration are known, calculate Start_Date\n",
    "df.loc[df['Start_Date'].isnull() & df['End_Date'].notnull() & df['Duration'].notnull(), 'Start_Date'] = (\n",
    "    df['End_Date'] - pd.to_timedelta(df['Duration'].abs(), unit='D')  # Ensure Duration is positive\n",
    ")"
   ]
  },
  {
   "cell_type": "markdown",
   "metadata": {},
   "source": [
    "To deal with the last 14 rows that have missing start and end date values, we'll generate random dates from the year 2023 but the dates must take the Duration column into consideration. We do it this way because 14 rows only account for 0.28% of the data. And if we use the median or mode for the dates separately, the dates will not coincide with the duration."
   ]
  },
  {
   "cell_type": "code",
   "execution_count": 58,
   "metadata": {},
   "outputs": [],
   "source": [
    "def fill_dates(row):\n",
    "    if pd.isnull(row['Start_Date']) or pd.isnull(row['End_Date']):\n",
    "        duration = row['Duration']\n",
    "        \n",
    "        # Generate a random Start_Date in 2023\n",
    "        start_date = pd.Timestamp('2023-01-01') + pd.to_timedelta(np.random.randint(0, 365), unit='D')\n",
    "        \n",
    "        # Calculate End_Date based on Duration\n",
    "        end_date = start_date + pd.to_timedelta(duration, unit='D')\n",
    "\n",
    "        # Ensure both dates are within 2023\n",
    "        if end_date > pd.Timestamp('2023-12-31'):\n",
    "            # If End_Date exceeds, adjust Start_Date to fit\n",
    "            start_date = pd.Timestamp('2023-12-31') - pd.to_timedelta(duration, unit='D')\n",
    "            end_date = pd.Timestamp('2023-12-31')\n",
    "\n",
    "        return pd.Series([start_date, end_date])\n",
    "    else:\n",
    "        return pd.Series([row['Start_Date'], row['End_Date']])\n",
    "\n",
    "# Apply the function to fill missing dates\n",
    "df[['Start_Date', 'End_Date']] = df.apply(fill_dates, axis=1)"
   ]
  },
  {
   "cell_type": "code",
   "execution_count": 61,
   "metadata": {},
   "outputs": [
    {
     "data": {
      "text/plain": [
       "Campaign_ID                 0\n",
       "Channel                   254\n",
       "Product_Category          267\n",
       "Region                    261\n",
       "Budget                    500\n",
       "Spend                     499\n",
       "Impressions               504\n",
       "Clicks                    486\n",
       "CTR                       498\n",
       "Conversions               494\n",
       "CR                        496\n",
       "Revenue                   509\n",
       "ROI                       495\n",
       "Duration                    0\n",
       "Start_Date                  0\n",
       "End_Date                    0\n",
       "Customer_Satisfaction     492\n",
       "Campaign_Effectiveness    490\n",
       "Market_Segment            262\n",
       "dtype: int64"
      ]
     },
     "execution_count": 61,
     "metadata": {},
     "output_type": "execute_result"
    }
   ],
   "source": [
    "#With this, we've removed the missing values in the Start_Date, End_Date, and Duration columns.\n",
    "isnull = df.isnull().sum()\n",
    "isnull"
   ]
  },
  {
   "cell_type": "code",
   "execution_count": 64,
   "metadata": {},
   "outputs": [
    {
     "data": {
      "text/html": [
       "<div>\n",
       "<style scoped>\n",
       "    .dataframe tbody tr th:only-of-type {\n",
       "        vertical-align: middle;\n",
       "    }\n",
       "\n",
       "    .dataframe tbody tr th {\n",
       "        vertical-align: top;\n",
       "    }\n",
       "\n",
       "    .dataframe thead th {\n",
       "        text-align: right;\n",
       "    }\n",
       "</style>\n",
       "<table border=\"1\" class=\"dataframe\">\n",
       "  <thead>\n",
       "    <tr style=\"text-align: right;\">\n",
       "      <th></th>\n",
       "      <th>Campaign_ID</th>\n",
       "      <th>Channel</th>\n",
       "      <th>Product_Category</th>\n",
       "      <th>Region</th>\n",
       "      <th>Budget</th>\n",
       "      <th>Spend</th>\n",
       "      <th>Impressions</th>\n",
       "      <th>Clicks</th>\n",
       "      <th>CTR</th>\n",
       "      <th>Conversions</th>\n",
       "      <th>CR</th>\n",
       "      <th>Revenue</th>\n",
       "      <th>ROI</th>\n",
       "      <th>Duration</th>\n",
       "      <th>Start_Date</th>\n",
       "      <th>End_Date</th>\n",
       "      <th>Customer_Satisfaction</th>\n",
       "      <th>Campaign_Effectiveness</th>\n",
       "      <th>Market_Segment</th>\n",
       "    </tr>\n",
       "  </thead>\n",
       "  <tbody>\n",
       "    <tr>\n",
       "      <th>0</th>\n",
       "      <td>CAM0001</td>\n",
       "      <td>Billboard</td>\n",
       "      <td>Fashion</td>\n",
       "      <td>Kuala Lumpur</td>\n",
       "      <td>484341.0</td>\n",
       "      <td>197038.0</td>\n",
       "      <td>545901.0</td>\n",
       "      <td>NaN</td>\n",
       "      <td>0.0785</td>\n",
       "      <td>7993.0</td>\n",
       "      <td>0.3414</td>\n",
       "      <td>849005.0</td>\n",
       "      <td>0.64</td>\n",
       "      <td>212.0</td>\n",
       "      <td>2023-03-02</td>\n",
       "      <td>2023-12-23</td>\n",
       "      <td>3.0</td>\n",
       "      <td>3.0</td>\n",
       "      <td>Medium</td>\n",
       "    </tr>\n",
       "    <tr>\n",
       "      <th>1</th>\n",
       "      <td>CAM0002</td>\n",
       "      <td>NaN</td>\n",
       "      <td>Health</td>\n",
       "      <td>Sarawak</td>\n",
       "      <td>468792.0</td>\n",
       "      <td>33743.0</td>\n",
       "      <td>527513.0</td>\n",
       "      <td>4130.0</td>\n",
       "      <td>0.9479</td>\n",
       "      <td>9459.0</td>\n",
       "      <td>NaN</td>\n",
       "      <td>921078.0</td>\n",
       "      <td>3.78</td>\n",
       "      <td>29.0</td>\n",
       "      <td>2023-05-10</td>\n",
       "      <td>2023-06-08</td>\n",
       "      <td>3.0</td>\n",
       "      <td>7.0</td>\n",
       "      <td>Medium</td>\n",
       "    </tr>\n",
       "    <tr>\n",
       "      <th>2</th>\n",
       "      <td>CAM0003</td>\n",
       "      <td>Radio</td>\n",
       "      <td>Electronics</td>\n",
       "      <td>Penang</td>\n",
       "      <td>10487.0</td>\n",
       "      <td>6745.0</td>\n",
       "      <td>806911.0</td>\n",
       "      <td>12209.0</td>\n",
       "      <td>NaN</td>\n",
       "      <td>7168.0</td>\n",
       "      <td>0.0517</td>\n",
       "      <td>51142.0</td>\n",
       "      <td>3.64</td>\n",
       "      <td>74.0</td>\n",
       "      <td>2023-04-12</td>\n",
       "      <td>2023-10-20</td>\n",
       "      <td>1.0</td>\n",
       "      <td>2.0</td>\n",
       "      <td>Medium</td>\n",
       "    </tr>\n",
       "    <tr>\n",
       "      <th>3</th>\n",
       "      <td>CAM0004</td>\n",
       "      <td>Email</td>\n",
       "      <td>Electronics</td>\n",
       "      <td>Penang</td>\n",
       "      <td>345431.0</td>\n",
       "      <td>329112.0</td>\n",
       "      <td>108570.0</td>\n",
       "      <td>34391.0</td>\n",
       "      <td>0.6157</td>\n",
       "      <td>7190.0</td>\n",
       "      <td>0.3579</td>\n",
       "      <td>191887.0</td>\n",
       "      <td>2.64</td>\n",
       "      <td>67.0</td>\n",
       "      <td>2023-04-24</td>\n",
       "      <td>2023-01-26</td>\n",
       "      <td>5.0</td>\n",
       "      <td>6.0</td>\n",
       "      <td>High</td>\n",
       "    </tr>\n",
       "    <tr>\n",
       "      <th>4</th>\n",
       "      <td>CAM0005</td>\n",
       "      <td>Radio</td>\n",
       "      <td>Fashion</td>\n",
       "      <td>Kuala Lumpur</td>\n",
       "      <td>322345.0</td>\n",
       "      <td>34365.0</td>\n",
       "      <td>799855.0</td>\n",
       "      <td>13056.0</td>\n",
       "      <td>NaN</td>\n",
       "      <td>1794.0</td>\n",
       "      <td>0.0544</td>\n",
       "      <td>167241.0</td>\n",
       "      <td>1.02</td>\n",
       "      <td>40.0</td>\n",
       "      <td>2023-01-10</td>\n",
       "      <td>2023-01-01</td>\n",
       "      <td>5.0</td>\n",
       "      <td>6.0</td>\n",
       "      <td>Low</td>\n",
       "    </tr>\n",
       "  </tbody>\n",
       "</table>\n",
       "</div>"
      ],
      "text/plain": [
       "  Campaign_ID    Channel Product_Category        Region    Budget     Spend  \\\n",
       "0     CAM0001  Billboard          Fashion  Kuala Lumpur  484341.0  197038.0   \n",
       "1     CAM0002        NaN           Health       Sarawak  468792.0   33743.0   \n",
       "2     CAM0003      Radio      Electronics        Penang   10487.0    6745.0   \n",
       "3     CAM0004      Email      Electronics        Penang  345431.0  329112.0   \n",
       "4     CAM0005      Radio          Fashion  Kuala Lumpur  322345.0   34365.0   \n",
       "\n",
       "   Impressions   Clicks     CTR  Conversions      CR   Revenue   ROI  \\\n",
       "0     545901.0      NaN  0.0785       7993.0  0.3414  849005.0  0.64   \n",
       "1     527513.0   4130.0  0.9479       9459.0     NaN  921078.0  3.78   \n",
       "2     806911.0  12209.0     NaN       7168.0  0.0517   51142.0  3.64   \n",
       "3     108570.0  34391.0  0.6157       7190.0  0.3579  191887.0  2.64   \n",
       "4     799855.0  13056.0     NaN       1794.0  0.0544  167241.0  1.02   \n",
       "\n",
       "   Duration Start_Date   End_Date  Customer_Satisfaction  \\\n",
       "0     212.0 2023-03-02 2023-12-23                    3.0   \n",
       "1      29.0 2023-05-10 2023-06-08                    3.0   \n",
       "2      74.0 2023-04-12 2023-10-20                    1.0   \n",
       "3      67.0 2023-04-24 2023-01-26                    5.0   \n",
       "4      40.0 2023-01-10 2023-01-01                    5.0   \n",
       "\n",
       "   Campaign_Effectiveness Market_Segment  \n",
       "0                     3.0         Medium  \n",
       "1                     7.0         Medium  \n",
       "2                     2.0         Medium  \n",
       "3                     6.0           High  \n",
       "4                     6.0            Low  "
      ]
     },
     "execution_count": 64,
     "metadata": {},
     "output_type": "execute_result"
    }
   ],
   "source": [
    "df.head()"
   ]
  },
  {
   "cell_type": "markdown",
   "metadata": {},
   "source": [
    "#### Check correlation between columns"
   ]
  },
  {
   "cell_type": "code",
   "execution_count": 62,
   "metadata": {},
   "outputs": [
    {
     "data": {
      "image/png": "[encoded data removed]",
      "text/plain": [
       "<Figure size 1200x800 with 2 Axes>"
      ]
     },
     "metadata": {},
     "output_type": "display_data"
    }
   ],
   "source": [
    "#We can creat a heatmap to visualize the correlation between the columns in the data.\n",
    "\n",
    "# Exclude non-numeric columns from correlation calculation\n",
    "numeric_columns = df.select_dtypes(include=[np.number])\n",
    "correlation_matrix = numeric_columns.corr()\n",
    "\n",
    "# Plot the correlation matrix as a heatmap\n",
    "plt.figure(figsize=(12, 8))\n",
    "sns.heatmap(correlation_matrix, annot=True, cmap='coolwarm', fmt='.2f')\n",
    "plt.title('Correlation Matrix')\n",
    "plt.show()"
   ]
  },
  {
   "cell_type": "code",
   "execution_count": 63,
   "metadata": {},
   "outputs": [
    {
     "data": {
      "text/html": [
       "<div>\n",
       "<style scoped>\n",
       "    .dataframe tbody tr th:only-of-type {\n",
       "        vertical-align: middle;\n",
       "    }\n",
       "\n",
       "    .dataframe tbody tr th {\n",
       "        vertical-align: top;\n",
       "    }\n",
       "\n",
       "    .dataframe thead th {\n",
       "        text-align: right;\n",
       "    }\n",
       "</style>\n",
       "<table border=\"1\" class=\"dataframe\">\n",
       "  <thead>\n",
       "    <tr style=\"text-align: right;\">\n",
       "      <th></th>\n",
       "      <th>Channel</th>\n",
       "      <th>Product_Category</th>\n",
       "      <th>Region</th>\n",
       "      <th>Market_Segment</th>\n",
       "    </tr>\n",
       "  </thead>\n",
       "  <tbody>\n",
       "    <tr>\n",
       "      <th>Channel</th>\n",
       "      <td>1.0</td>\n",
       "      <td>0.0</td>\n",
       "      <td>0.046788</td>\n",
       "      <td>0.0</td>\n",
       "    </tr>\n",
       "    <tr>\n",
       "      <th>Product_Category</th>\n",
       "      <td>0.0</td>\n",
       "      <td>1.0</td>\n",
       "      <td>0.019761</td>\n",
       "      <td>0.0</td>\n",
       "    </tr>\n",
       "    <tr>\n",
       "      <th>Region</th>\n",
       "      <td>0.046788</td>\n",
       "      <td>0.019761</td>\n",
       "      <td>1.0</td>\n",
       "      <td>0.0</td>\n",
       "    </tr>\n",
       "    <tr>\n",
       "      <th>Market_Segment</th>\n",
       "      <td>0.0</td>\n",
       "      <td>0.0</td>\n",
       "      <td>0.0</td>\n",
       "      <td>1.0</td>\n",
       "    </tr>\n",
       "  </tbody>\n",
       "</table>\n",
       "</div>"
      ],
      "text/plain": [
       "                   Channel Product_Category    Region Market_Segment\n",
       "Channel                1.0              0.0  0.046788            0.0\n",
       "Product_Category       0.0              1.0  0.019761            0.0\n",
       "Region            0.046788         0.019761       1.0            0.0\n",
       "Market_Segment         0.0              0.0       0.0            1.0"
      ]
     },
     "execution_count": 63,
     "metadata": {},
     "output_type": "execute_result"
    }
   ],
   "source": [
    "import scipy.stats as ss\n",
    "\n",
    "def cramers_v(x, y):\n",
    "    confusion_matrix = pd.crosstab(x, y)\n",
    "    chi2 = ss.chi2_contingency(confusion_matrix)[0]\n",
    "    n = confusion_matrix.sum().sum()\n",
    "    phi2 = chi2 / n\n",
    "    r, k = confusion_matrix.shape\n",
    "    phi2corr = max(0, phi2 - ((k - 1) * (r - 1)) / (n - 1))\n",
    "    rcorr = r - ((r - 1) ** 2) / (n - 1)\n",
    "    kcorr = k - ((k - 1) ** 2) / (n - 1)\n",
    "    return np.sqrt(phi2corr / min((kcorr - 1), (rcorr - 1)))\n",
    "\n",
    "categorical_columns = ['Channel', 'Product_Category', 'Region', 'Market_Segment']\n",
    "\n",
    "correlation_matrix_categorical = pd.DataFrame(index=categorical_columns, columns=categorical_columns)\n",
    "\n",
    "for col1 in categorical_columns:\n",
    "    for col2 in categorical_columns:\n",
    "        correlation_matrix_categorical.loc[col1, col2] = cramers_v(df[col1], df[col2])\n",
    "\n",
    "correlation_matrix_categorical"
   ]
  }
 ],
 "metadata": {
  "kernelspec": {
   "display_name": "Python 3",
   "language": "python",
   "name": "python3"
  },
  "language_info": {
   "codemirror_mode": {
    "name": "ipython",
    "version": 3
   },
   "file_extension": ".py",
   "mimetype": "text/x-python",
   "name": "python",
   "nbconvert_exporter": "python",
   "pygments_lexer": "ipython3",
   "version": "3.11.9"
  }
 },
 "nbformat": 4,
 "nbformat_minor": 2
}
